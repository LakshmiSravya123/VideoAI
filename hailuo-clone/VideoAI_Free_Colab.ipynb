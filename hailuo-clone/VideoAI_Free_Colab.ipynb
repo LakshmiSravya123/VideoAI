{
  "nbformat": 4,
  "nbformat_minor": 0,
  "metadata": {
    "colab": {
      "provenance": [],
      "gpuType": "T4"
    },
    "kernelspec": {
      "name": "python3",
      "display_name": "Python 3"
    },
    "language_info": {
      "name": "python"
    },
    "accelerator": "GPU"
  },
  "cells": [
    {
      "cell_type": "markdown",
      "source": [
        "# 🎬 VideoAI - Free Video Generation\n",
        "\n",
        "## 100% Free AI Video Generation using Google Colab!\n",
        "\n",
        "**Features:**\n",
        "- ✅ Completely Free\n",
        "- ✅ No Credit Card Required\n",
        "- ✅ High Quality Videos\n",
        "- ✅ Multiple Models\n",
        "\n",
        "**Instructions:**\n",
        "1. Click Runtime → Run all\n",
        "2. Wait 2-3 minutes for setup\n",
        "3. Enter your prompt in the last cell\n",
        "4. Generate and download your video!\n",
        "\n",
        "---"
      ],
      "metadata": {
        "id": "header"
      }
    },
    {
      "cell_type": "code",
      "source": [
        "# Step 1: Install Dependencies\n",
        "print(\"📦 Installing dependencies...\")\n",
        "!pip install -q diffusers transformers accelerate imageio[ffmpeg] flask flask-cors pyngrok\n",
        "print(\"✅ Dependencies installed!\")"
      ],
      "metadata": {
        "id": "install"
      },
      "execution_count": null,
      "outputs": []
    },
    {
      "cell_type": "code",
      "source": [
        "# Step 2: Import Libraries\n",
        "import torch\n",
        "from diffusers import CogVideoXPipeline\n",
        "from diffusers.utils import export_to_video\n",
        "import imageio\n",
        "from IPython.display import Video, display\n",
        "import os\n",
        "\n",
        "print(\"✅ Libraries imported!\")\n",
        "print(f\"🔥 GPU Available: {torch.cuda.is_available()}\")\n",
        "if torch.cuda.is_available():\n",
        "    print(f\"   GPU Name: {torch.cuda.get_device_name(0)}\")"
      ],
      "metadata": {
        "id": "imports"
      },
      "execution_count": null,
      "outputs": []
    },
    {
      "cell_type": "code",
      "source": [
        "# Step 3: Load Model (CogVideoX-2B - Smaller, faster)\n",
        "print(\"🤖 Loading CogVideoX-2B model...\")\n",
        "print(\"⏳ This may take 2-3 minutes...\")\n",
        "\n",
        "pipe = CogVideoXPipeline.from_pretrained(\n",
        "    \"THUDM/CogVideoX-2b\",\n",
        "    torch_dtype=torch.float16\n",
        ")\n",
        "\n",
        "if torch.cuda.is_available():\n",
        "    pipe.to(\"cuda\")\n",
        "    print(\"✅ Model loaded on GPU!\")\n",
        "else:\n",
        "    print(\"⚠️ Running on CPU (will be slower)\")\n",
        "\n",
        "print(\"🎬 Ready to generate videos!\")"
      ],
      "metadata": {
        "id": "load_model"
      },
      "execution_count": null,
      "outputs": []
    },
    {
      "cell_type": "code",
      "source": [
        "# Step 4: Generate Video Function\n",
        "def generate_video(prompt, output_path=\"output.mp4\", num_frames=49):\n",
        "    \"\"\"\n",
        "    Generate a video from a text prompt\n",
        "    \n",
        "    Args:\n",
        "        prompt: Text description of the video\n",
        "        output_path: Where to save the video\n",
        "        num_frames: Number of frames (default 49 = ~6 seconds)\n",
        "    \"\"\"\n",
        "    print(f\"🎨 Generating video for: {prompt}\")\n",
        "    print(f\"⏳ This will take 30-60 seconds...\")\n",
        "    \n",
        "    # Generate\n",
        "    video_frames = pipe(\n",
        "        prompt=prompt,\n",
        "        num_frames=num_frames,\n",
        "        guidance_scale=6.0,\n",
        "        num_inference_steps=50\n",
        "    ).frames[0]\n",
        "    \n",
        "    # Save\n",
        "    export_to_video(video_frames, output_path, fps=8)\n",
        "    \n",
        "    print(f\"✅ Video saved to: {output_path}\")\n",
        "    \n",
        "    # Display\n",
        "    display(Video(output_path, embed=True, width=512))\n",
        "    \n",
        "    return output_path\n",
        "\n",
        "print(\"✅ Generation function ready!\")"
      ],
      "metadata": {
        "id": "generate_function"
      },
      "execution_count": null,
      "outputs": []
    },
    {
      "cell_type": "markdown",
      "source": [
        "---\n",
        "## 🎬 Generate Your Video!\n",
        "\n",
        "**Edit the prompt below and run the cell:**"
      ],
      "metadata": {
        "id": "generate_header"
      }
    },
    {
      "cell_type": "code",
      "source": [
        "# 🎬 EDIT THIS PROMPT:\n",
        "prompt = \"A golden retriever running through a field of sunflowers at sunset\"\n",
        "\n",
        "# Generate!\n",
        "video_path = generate_video(prompt)\n",
        "\n",
        "# Download link\n",
        "from google.colab import files\n",
        "print(\"\\n📥 Click below to download your video:\")\n",
        "files.download(video_path)"
      ],
      "metadata": {
        "id": "generate"
      },
      "execution_count": null,
      "outputs": []
    },
    {
      "cell_type": "markdown",
      "source": [
        "---\n",
        "## 💡 Example Prompts\n",
        "\n",
        "Try these prompts:\n",
        "\n",
        "```python\n",
        "# Nature\n",
        "\"A majestic waterfall cascading down rocks in a lush rainforest\"\n",
        "\n",
        "# Animals\n",
        "\"A cat playing with a ball of yarn on a cozy carpet\"\n",
        "\n",
        "# Urban\n",
        "\"City street at night with cars and neon lights\"\n",
        "\n",
        "# Fantasy\n",
        "\"A dragon flying over a medieval castle at dawn\"\n",
        "\n",
        "# Action\n",
        "\"A sports car drifting around a corner on a race track\"\n",
        "```\n",
        "\n",
        "**Just copy a prompt above and paste it in the previous cell!**"
      ],
      "metadata": {
        "id": "examples"
      }
    },
    {
      "cell_type": "markdown",
      "source": [
        "---\n",
        "## 🚀 Optional: Create API Server (Advanced)\n",
        "\n",
        "Run this to create a temporary API endpoint you can connect to from your app!"
      ],
      "metadata": {
        "id": "api_header"
      }
    },
    {
      "cell_type": "code",
      "source": [
        "# Optional: Create Flask API + ngrok tunnel\n",
        "from flask import Flask, request, jsonify, send_file\n",
        "from flask_cors import CORS\n",
        "from pyngrok import ngrok\n",
        "import threading\n",
        "\n",
        "app = Flask(__name__)\n",
        "CORS(app)\n",
        "\n",
        "@app.route('/generate-video', methods=['POST'])\n",
        "def api_generate():\n",
        "    data = request.json\n",
        "    prompt = data.get('prompt', '')\n",
        "    \n",
        "    if not prompt:\n",
        "        return jsonify({'error': 'Prompt required'}), 400\n",
        "    \n",
        "    output_path = generate_video(prompt)\n",
        "    \n",
        "    return jsonify({\n",
        "        'video_url': f'/download/{output_path}',\n",
        "        'prompt': prompt\n",
        "    })\n",
        "\n",
        "@app.route('/download/<path:filename>')\n",
        "def download(filename):\n",
        "    return send_file(filename, mimetype='video/mp4')\n",
        "\n",
        "# Start ngrok tunnel\n",
        "public_url = ngrok.connect(5000)\n",
        "print(f\"\\n🌐 Your API is live at: {public_url}\")\n",
        "print(f\"\\n📝 Use this URL in your frontend!\")\n",
        "print(f\"   Replace http://localhost:5000 with: {public_url}\")\n",
        "\n",
        "# Run Flask\n",
        "threading.Thread(target=lambda: app.run(port=5000, debug=False)).start()"
      ],
      "metadata": {
        "id": "api_server"
      },
      "execution_count": null,
      "outputs": []
    }
  ]
}
